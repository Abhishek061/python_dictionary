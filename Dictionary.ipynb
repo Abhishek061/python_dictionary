{
 "cells": [
  {
   "cell_type": "code",
   "execution_count": 1,
   "id": "eeeb59a1",
   "metadata": {},
   "outputs": [],
   "source": [
    "import tkinter \n",
    "window=tkinter.Tk()\n",
    "window.title(\"Dictionary\")\n",
    "label=tkinter.Label(window,text=\"hello world!\").pack()\n",
    "window.mainloop() "
   ]
  },
  {
   "cell_type": "code",
   "execution_count": 2,
   "id": "f4774461",
   "metadata": {},
   "outputs": [
    {
     "name": "stdout",
     "output_type": "stream",
     "text": [
      "Requirement already satisfied: pydictionary in c:\\users\\hp\\anaconda3\\lib\\site-packages (2.0.1)\n",
      "Requirement already satisfied: goslate in c:\\users\\hp\\anaconda3\\lib\\site-packages (from pydictionary) (1.5.2)\n",
      "Requirement already satisfied: click in c:\\users\\hp\\anaconda3\\lib\\site-packages (from pydictionary) (7.1.2)\n",
      "Requirement already satisfied: requests in c:\\users\\hp\\anaconda3\\lib\\site-packages (from pydictionary) (2.25.1)\n",
      "Requirement already satisfied: bs4 in c:\\users\\hp\\anaconda3\\lib\\site-packages (from pydictionary) (0.0.1)\n",
      "Requirement already satisfied: beautifulsoup4 in c:\\users\\hp\\anaconda3\\lib\\site-packages (from bs4->pydictionary) (4.9.3)\n",
      "Requirement already satisfied: soupsieve>1.2 in c:\\users\\hp\\anaconda3\\lib\\site-packages (from beautifulsoup4->bs4->pydictionary) (2.2.1)\n",
      "Requirement already satisfied: futures in c:\\users\\hp\\anaconda3\\lib\\site-packages (from goslate->pydictionary) (3.0.5)\n",
      "Requirement already satisfied: idna<3,>=2.5 in c:\\users\\hp\\anaconda3\\lib\\site-packages (from requests->pydictionary) (2.10)\n",
      "Requirement already satisfied: urllib3<1.27,>=1.21.1 in c:\\users\\hp\\anaconda3\\lib\\site-packages (from requests->pydictionary) (1.26.4)\n",
      "Requirement already satisfied: chardet<5,>=3.0.2 in c:\\users\\hp\\anaconda3\\lib\\site-packages (from requests->pydictionary) (4.0.0)\n",
      "Requirement already satisfied: certifi>=2017.4.17 in c:\\users\\hp\\anaconda3\\lib\\site-packages (from requests->pydictionary) (2020.12.5)\n",
      "Note: you may need to restart the kernel to use updated packages.\n"
     ]
    }
   ],
   "source": [
    "pip install pydictionary"
   ]
  },
  {
   "cell_type": "code",
   "execution_count": 3,
   "id": "e35290ff",
   "metadata": {},
   "outputs": [
    {
     "name": "stdout",
     "output_type": "stream",
     "text": [
      "Word to search meaninglaptop\n",
      "Noun=['a portable computer small enough to use in your lap']\n",
      "\n"
     ]
    }
   ],
   "source": [
    "from PyDictionary import PyDictionary\n",
    "dictionary=PyDictionary()\n",
    "word=input(\"Word to search meaning\")\n",
    "meaning=dictionary.meaning(word)\n",
    "for i in meaning:\n",
    "    print(f'{i}={meaning[i]}')\n",
    "    print('')\n"
   ]
  },
  {
   "cell_type": "code",
   "execution_count": 4,
   "id": "732469d6",
   "metadata": {},
   "outputs": [],
   "source": [
    "import tkinter as tk\n",
    "\n",
    "root = tk.Tk()\n",
    "root.geometry('800x600')\n",
    "label=tk.Label(root,text='Dictionary',font=(\"Arial Bold\",50))\n",
    "label.place(relx = 0.5,rely = 0.25,anchor = 'center')\n",
    "root.mainloop()"
   ]
  },
  {
   "cell_type": "code",
   "execution_count": 5,
   "id": "32914028",
   "metadata": {},
   "outputs": [],
   "source": [
    "from tkinter import *\n",
    "from PyDictionary import PyDictionary\n",
    "window=tkinter.Tk()\n",
    "window.geometry('800x600')\n",
    "Word=tkinter.StringVar()\n",
    "window.title(\"Dictionary\")\n",
    "def submit():\n",
    "    dictionary=PyDictionary()\n",
    "    Word1=Word.get()\n",
    "    meaning=dictionary.meaning(Word1)\n",
    "    mean.delete('1.0', END)\n",
    "    for i in meaning:\n",
    "        mean.insert(END,f'{i}={meaning[i]}')\n",
    "        mean.insert(END,'')\n",
    "    \n",
    "        \n",
    "    \n",
    "\n",
    "\n",
    "l1=tkinter.Label(window,text=\"Dictionary\",font=(\"Arial Bold\",50)).pack()\n",
    "word = tkinter.Label(window, text = 'Word to be searched', font=('calibre',10, 'bold'))\n",
    "word.place(relx = 0.5,rely = 0.25,anchor = 'center')\n",
    "word_entry=tkinter.Entry(window,textvariable=Word,font=('calibre',10, 'bold'))\n",
    "word_entry.place(relx=0.5,rely=0.3,anchor='center')\n",
    "sub_btn=tkinter.Button(window,text = 'Submit', command = submit)\n",
    "sub_btn.place(relx = 0.5,rely = 0.35,anchor = 'center')\n",
    "mean=tkinter.Text(window,font=('calibre',10, 'bold'))\n",
    "mean.place(relx = 0.5,rely = 0.65,relheight=0.36,anchor = 'center' )\n",
    "window.mainloop()\n"
   ]
  },
  {
   "cell_type": "code",
   "execution_count": null,
   "id": "36a355b3",
   "metadata": {},
   "outputs": [],
   "source": [
    "\n"
   ]
  },
  {
   "cell_type": "code",
   "execution_count": null,
   "id": "e9113214",
   "metadata": {},
   "outputs": [],
   "source": []
  },
  {
   "cell_type": "code",
   "execution_count": null,
   "id": "e2534efa",
   "metadata": {},
   "outputs": [],
   "source": []
  }
 ],
 "metadata": {
  "kernelspec": {
   "display_name": "Python 3",
   "language": "python",
   "name": "python3"
  },
  "language_info": {
   "codemirror_mode": {
    "name": "ipython",
    "version": 3
   },
   "file_extension": ".py",
   "mimetype": "text/x-python",
   "name": "python",
   "nbconvert_exporter": "python",
   "pygments_lexer": "ipython3",
   "version": "3.8.8"
  }
 },
 "nbformat": 4,
 "nbformat_minor": 5
}
